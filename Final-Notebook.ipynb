{
 "cells": [
  {
   "cell_type": "code",
   "execution_count": 1,
   "metadata": {},
   "outputs": [
    {
     "name": "stdout",
     "output_type": "stream",
     "text": [
      "Starting Spark application\n"
     ]
    },
    {
     "data": {
      "text/html": [
       "<table>\n",
       "<tr><th>ID</th><th>YARN Application ID</th><th>Kind</th><th>State</th><th>Spark UI</th><th>Driver log</th><th>Current session?</th></tr><tr><td>2</td><td>application_1606962788567_0003</td><td>pyspark</td><td>idle</td><td><a target=\"_blank\" href=\"http://ip-172-31-10-212.ec2.internal:20888/proxy/application_1606962788567_0003/\">Link</a></td><td><a target=\"_blank\" href=\"http://ip-172-31-11-202.ec2.internal:8042/node/containerlogs/container_1606962788567_0003_01_000001/livy\">Link</a></td><td>✔</td></tr></table>"
      ],
      "text/plain": [
       "<IPython.core.display.HTML object>"
      ]
     },
     "metadata": {},
     "output_type": "display_data"
    },
    {
     "data": {
      "application/vnd.jupyter.widget-view+json": {
       "model_id": "",
       "version_major": 2,
       "version_minor": 0
      },
      "text/plain": [
       "FloatProgress(value=0.0, bar_style='info', description='Progress:', layout=Layout(height='25px', width='50%'),…"
      ]
     },
     "metadata": {},
     "output_type": "display_data"
    },
    {
     "name": "stdout",
     "output_type": "stream",
     "text": [
      "SparkSession available as 'spark'.\n"
     ]
    },
    {
     "data": {
      "application/vnd.jupyter.widget-view+json": {
       "model_id": "",
       "version_major": 2,
       "version_minor": 0
      },
      "text/plain": [
       "FloatProgress(value=0.0, bar_style='info', description='Progress:', layout=Layout(height='25px', width='50%'),…"
      ]
     },
     "metadata": {},
     "output_type": "display_data"
    },
    {
     "name": "stdout",
     "output_type": "stream",
     "text": [
      "<pyspark.sql.session.SparkSession object at 0x7f18edb71390>"
     ]
    }
   ],
   "source": [
    "spark"
   ]
  },
  {
   "cell_type": "code",
   "execution_count": 2,
   "metadata": {},
   "outputs": [
    {
     "data": {
      "application/vnd.jupyter.widget-view+json": {
       "model_id": "",
       "version_major": 2,
       "version_minor": 0
      },
      "text/plain": [
       "FloatProgress(value=0.0, bar_style='info', description='Progress:', layout=Layout(height='25px', width='50%'),…"
      ]
     },
     "metadata": {},
     "output_type": "display_data"
    }
   ],
   "source": [
    "from pyspark.sql import SQLContext\n",
    "from pyspark.sql.functions import col, avg, mean, when, count, isnan\n",
    "from pyspark import SparkContext\n",
    "import numpy as np\n",
    "from numpy.linalg import eigh"
   ]
  },
  {
   "cell_type": "code",
   "execution_count": 133,
   "metadata": {},
   "outputs": [
    {
     "data": {
      "application/vnd.jupyter.widget-view+json": {
       "model_id": "",
       "version_major": 2,
       "version_minor": 0
      },
      "text/plain": [
       "FloatProgress(value=0.0, bar_style='info', description='Progress:', layout=Layout(height='25px', width='50%'),…"
      ]
     },
     "metadata": {},
     "output_type": "display_data"
    },
    {
     "name": "stdout",
     "output_type": "stream",
     "text": [
      "+------------------+\n",
      "|artist_familiarity|\n",
      "+------------------+\n",
      "|0.6652990520943541|\n",
      "| 0.690885497114412|\n",
      "|0.5940491245011125|\n",
      "| 0.833591719824811|\n",
      "|0.7380844177161777|\n",
      "|               0.0|\n",
      "|0.5594202480844251|\n",
      "|0.5244855494695024|\n",
      "|0.8831436650054394|\n",
      "|0.4426956666168511|\n",
      "|0.5893312546494746|\n",
      "|0.3617999581550273|\n",
      "|0.5228802505435669|\n",
      "|0.6745516134186544|\n",
      "|0.6458308589757341|\n",
      "|0.6883056226085532|\n",
      "|0.4922427785820167|\n",
      "| 0.560868629507006|\n",
      "|0.6567001580510525|\n",
      "|0.8038153696948831|\n",
      "+------------------+\n",
      "only showing top 20 rows\n",
      "\n",
      "+-------------------+\n",
      "|    song_hotttnesss|\n",
      "+-------------------+\n",
      "| 0.6980975442614767|\n",
      "| 0.4909042005420652|\n",
      "|               null|\n",
      "|0.24686509445288138|\n",
      "| 0.7271405818437788|\n",
      "| 0.7389245482640411|\n",
      "|0.38393468427870303|\n",
      "|                0.0|\n",
      "| 0.5755105376219763|\n",
      "|                0.0|\n",
      "|                0.0|\n",
      "|                0.0|\n",
      "|               null|\n",
      "| 0.6141845069522139|\n",
      "| 0.6130458357683207|\n",
      "|0.42758288620768037|\n",
      "|0.26586104921065007|\n",
      "|               null|\n",
      "| 0.3775316449767025|\n",
      "|               null|\n",
      "+-------------------+\n",
      "only showing top 20 rows\n",
      "\n",
      "+--------------------+\n",
      "|analysis_sample_rate|\n",
      "+--------------------+\n",
      "|               22050|\n",
      "|               22050|\n",
      "|               22050|\n",
      "|               22050|\n",
      "|               22050|\n",
      "|               22050|\n",
      "|               22050|\n",
      "|               22050|\n",
      "|               22050|\n",
      "|               22050|\n",
      "|               22050|\n",
      "|               22050|\n",
      "|               22050|\n",
      "|               22050|\n",
      "|               22050|\n",
      "|               22050|\n",
      "|               22050|\n",
      "|               22050|\n",
      "|               22050|\n",
      "|               22050|\n",
      "+--------------------+\n",
      "only showing top 20 rows\n",
      "\n",
      "+------------+\n",
      "|danceability|\n",
      "+------------+\n",
      "|         0.0|\n",
      "|         0.0|\n",
      "|         0.0|\n",
      "|         0.0|\n",
      "|         0.0|\n",
      "|         0.0|\n",
      "|         0.0|\n",
      "|         0.0|\n",
      "|         0.0|\n",
      "|         0.0|\n",
      "|         0.0|\n",
      "|         0.0|\n",
      "|         0.0|\n",
      "|         0.0|\n",
      "|         0.0|\n",
      "|         0.0|\n",
      "|         0.0|\n",
      "|         0.0|\n",
      "|         0.0|\n",
      "|         0.0|\n",
      "+------------+\n",
      "only showing top 20 rows\n",
      "\n",
      "+---------+\n",
      "| duration|\n",
      "+---------+\n",
      "|285.02159|\n",
      "| 382.1971|\n",
      "|195.18649|\n",
      "|113.89342|\n",
      "|227.86567|\n",
      "|395.93751|\n",
      "|469.60281|\n",
      "|317.49179|\n",
      "|257.04444|\n",
      "| 153.5473|\n",
      "|155.71546|\n",
      "|238.31465|\n",
      "|249.36444|\n",
      "| 88.08444|\n",
      "| 83.53914|\n",
      "|188.13342|\n",
      "|163.34322|\n",
      "|520.59383|\n",
      "|299.62404|\n",
      "|247.58812|\n",
      "+---------+\n",
      "only showing top 20 rows\n",
      "\n",
      "+--------------+\n",
      "|end_of_fade_in|\n",
      "+--------------+\n",
      "|         0.136|\n",
      "|         0.113|\n",
      "|         0.212|\n",
      "|         0.266|\n",
      "|         0.171|\n",
      "|         0.074|\n",
      "|         0.427|\n",
      "|          0.34|\n",
      "|           0.0|\n",
      "|         0.136|\n",
      "|         0.363|\n",
      "|         2.421|\n",
      "|         2.038|\n",
      "|         3.489|\n",
      "|           0.0|\n",
      "|           0.0|\n",
      "|         0.324|\n",
      "|         0.311|\n",
      "|         0.763|\n",
      "|         0.189|\n",
      "+--------------+\n",
      "only showing top 20 rows\n",
      "\n",
      "+------+\n",
      "|energy|\n",
      "+------+\n",
      "|   0.0|\n",
      "|   0.0|\n",
      "|   0.0|\n",
      "|   0.0|\n",
      "|   0.0|\n",
      "|   0.0|\n",
      "|   0.0|\n",
      "|   0.0|\n",
      "|   0.0|\n",
      "|   0.0|\n",
      "|   0.0|\n",
      "|   0.0|\n",
      "|   0.0|\n",
      "|   0.0|\n",
      "|   0.0|\n",
      "|   0.0|\n",
      "|   0.0|\n",
      "|   0.0|\n",
      "|   0.0|\n",
      "|   0.0|\n",
      "+------+\n",
      "only showing top 20 rows\n",
      "\n",
      "+---+\n",
      "|key|\n",
      "+---+\n",
      "|  7|\n",
      "| 10|\n",
      "|  5|\n",
      "|  7|\n",
      "|  5|\n",
      "|  0|\n",
      "|  7|\n",
      "|  6|\n",
      "|  0|\n",
      "|  2|\n",
      "|  3|\n",
      "|  7|\n",
      "|  5|\n",
      "|  8|\n",
      "|  8|\n",
      "|  9|\n",
      "|  9|\n",
      "| 11|\n",
      "|  2|\n",
      "|  9|\n",
      "+---+\n",
      "only showing top 20 rows\n",
      "\n",
      "+--------+\n",
      "|loudness|\n",
      "+--------+\n",
      "|  -7.363|\n",
      "|  -8.756|\n",
      "|  -9.398|\n",
      "|  -4.682|\n",
      "|  -7.777|\n",
      "|  -5.346|\n",
      "|  -7.312|\n",
      "| -11.482|\n",
      "| -11.628|\n",
      "|   -9.69|\n",
      "|  -15.03|\n",
      "|  -5.864|\n",
      "|  -2.642|\n",
      "|  -4.529|\n",
      "|  -6.525|\n",
      "|  -7.712|\n",
      "| -13.691|\n",
      "|  -7.251|\n",
      "|  -9.146|\n",
      "|  -7.588|\n",
      "+--------+\n",
      "only showing top 20 rows\n",
      "\n",
      "+----+\n",
      "|mode|\n",
      "+----+\n",
      "|   1|\n",
      "|   0|\n",
      "|   0|\n",
      "|   1|\n",
      "|   1|\n",
      "|   0|\n",
      "|   1|\n",
      "|   1|\n",
      "|   1|\n",
      "|   1|\n",
      "|   1|\n",
      "|   1|\n",
      "|   0|\n",
      "|   1|\n",
      "|   1|\n",
      "|   0|\n",
      "|   0|\n",
      "|   0|\n",
      "|   1|\n",
      "|   1|\n",
      "+----+\n",
      "only showing top 20 rows\n",
      "\n",
      "+-----------------+\n",
      "|start_of_fade_out|\n",
      "+-----------------+\n",
      "|           275.04|\n",
      "|          379.565|\n",
      "|          190.032|\n",
      "|          106.481|\n",
      "|          219.852|\n",
      "|          360.391|\n",
      "|          462.565|\n",
      "|           305.25|\n",
      "|          254.833|\n",
      "|          144.184|\n",
      "|          145.543|\n",
      "|          227.033|\n",
      "|          244.878|\n",
      "|           88.084|\n",
      "|           83.539|\n",
      "|          185.458|\n",
      "|          158.465|\n",
      "|          509.846|\n",
      "|          283.045|\n",
      "|          234.794|\n",
      "+-----------------+\n",
      "only showing top 20 rows\n",
      "\n",
      "+-------+\n",
      "|  tempo|\n",
      "+-------+\n",
      "|130.832|\n",
      "|    0.0|\n",
      "| 57.979|\n",
      "|112.022|\n",
      "|119.953|\n",
      "|123.524|\n",
      "|199.783|\n",
      "|141.748|\n",
      "| 87.918|\n",
      "|126.236|\n",
      "| 44.862|\n",
      "|106.025|\n",
      "|141.968|\n",
      "|185.061|\n",
      "|106.703|\n",
      "|167.409|\n",
      "|100.827|\n",
      "|128.003|\n",
      "|128.693|\n",
      "| 88.371|\n",
      "+-------+\n",
      "only showing top 20 rows\n",
      "\n",
      "+----+\n",
      "|year|\n",
      "+----+\n",
      "|2009|\n",
      "|2009|\n",
      "|   0|\n",
      "|   0|\n",
      "|2008|\n",
      "|2009|\n",
      "|   0|\n",
      "|1997|\n",
      "|1989|\n",
      "|2004|\n",
      "|   0|\n",
      "|1984|\n",
      "|   0|\n",
      "|   0|\n",
      "|2000|\n",
      "|   0|\n",
      "|1966|\n",
      "|1997|\n",
      "|1978|\n",
      "|1969|\n",
      "+----+\n",
      "only showing top 20 rows"
     ]
    }
   ],
   "source": [
    "# load dataset\n",
    "df = spark.read.format('csv').options(header='true', inferSchema='true').load(\"s3://afung-10605-project/songs/data/b*\")\n",
    "\n",
    "df.select('artist_familiarity').show()\n",
    "df.select('song_hotttnesss').show()\n",
    "df.select('analysis_sample_rate').show()\n",
    "df.select('danceability').show()\n",
    "df.select('duration').show()\n",
    "df.select('end_of_fade_in').show()\n",
    "df.select('energy').show()\n",
    "df.select('key').show()\n",
    "df.select('loudness').show()\n",
    "df.select('mode').show()\n",
    "df.select('start_of_fade_out').show()\n",
    "df.select('tempo').show()\n",
    "df.select('year').show()"
   ]
  },
  {
   "cell_type": "code",
   "execution_count": 136,
   "metadata": {},
   "outputs": [
    {
     "data": {
      "application/vnd.jupyter.widget-view+json": {
       "model_id": "",
       "version_major": 2,
       "version_minor": 0
      },
      "text/plain": [
       "FloatProgress(value=0.0, bar_style='info', description='Progress:', layout=Layout(height='25px', width='50%'),…"
      ]
     },
     "metadata": {},
     "output_type": "display_data"
    },
    {
     "name": "stdout",
     "output_type": "stream",
     "text": [
      "+------------+\n",
      "|danceability|\n",
      "+------------+\n",
      "|         0.0|\n",
      "+------------+\n",
      "\n",
      "+--------------------+\n",
      "|analysis_sample_rate|\n",
      "+--------------------+\n",
      "|               22050|\n",
      "+--------------------+\n",
      "\n",
      "+------+\n",
      "|energy|\n",
      "+------+\n",
      "|   0.0|\n",
      "+------+"
     ]
    }
   ],
   "source": [
    "df.select('danceability').distinct().show()\n",
    "df.select('analysis_sample_rate').distinct().show()\n",
    "df.select('energy').distinct().show()"
   ]
  },
  {
   "cell_type": "code",
   "execution_count": 137,
   "metadata": {},
   "outputs": [
    {
     "data": {
      "application/vnd.jupyter.widget-view+json": {
       "model_id": "",
       "version_major": 2,
       "version_minor": 0
      },
      "text/plain": [
       "FloatProgress(value=0.0, bar_style='info', description='Progress:', layout=Layout(height='25px', width='50%'),…"
      ]
     },
     "metadata": {},
     "output_type": "display_data"
    },
    {
     "name": "stdout",
     "output_type": "stream",
     "text": [
      "286453"
     ]
    }
   ],
   "source": [
    "# drop features that have only one value, or are unneeded like _c0 or song_id\n",
    "sample = df.drop('song_id', '_c0', 'danceability', 'energy',\n",
    "                          'analysis_sample_rate')\n",
    "# drop all the rows with null values\n",
    "sample = sample.na.drop()\n",
    "sample.count()"
   ]
  },
  {
   "cell_type": "code",
   "execution_count": 138,
   "metadata": {},
   "outputs": [
    {
     "data": {
      "application/vnd.jupyter.widget-view+json": {
       "model_id": "",
       "version_major": 2,
       "version_minor": 0
      },
      "text/plain": [
       "FloatProgress(value=0.0, bar_style='info', description='Progress:', layout=Layout(height='25px', width='50%'),…"
      ]
     },
     "metadata": {},
     "output_type": "display_data"
    },
    {
     "name": "stdout",
     "output_type": "stream",
     "text": [
      "root\n",
      " |-- artist_familiarity: double (nullable = true)\n",
      " |-- artist_hotttnesss: double (nullable = true)\n",
      " |-- song_hotttnesss: double (nullable = true)\n",
      " |-- duration: double (nullable = true)\n",
      " |-- end_of_fade_in: double (nullable = true)\n",
      " |-- key: integer (nullable = true)\n",
      " |-- loudness: double (nullable = true)\n",
      " |-- mode: integer (nullable = true)\n",
      " |-- start_of_fade_out: double (nullable = true)\n",
      " |-- tempo: double (nullable = true)\n",
      " |-- year: integer (nullable = true)\n",
      "\n",
      "+------------------+-------------------+-------------------+---------+--------------+---+--------+----+-----------------+-------+----+\n",
      "|artist_familiarity|  artist_hotttnesss|    song_hotttnesss| duration|end_of_fade_in|key|loudness|mode|start_of_fade_out|  tempo|year|\n",
      "+------------------+-------------------+-------------------+---------+--------------+---+--------+----+-----------------+-------+----+\n",
      "|0.6652990520943541|0.40107322089442643| 0.6980975442614767|285.02159|         0.136|  7|  -7.363|   1|           275.04|130.832|2009|\n",
      "| 0.690885497114412| 0.4648224660528801| 0.4909042005420652| 382.1971|         0.113| 10|  -8.756|   0|          379.565|    0.0|2009|\n",
      "| 0.833591719824811|  0.574531373805437|0.24686509445288138|113.89342|         0.266|  7|  -4.682|   1|          106.481|112.022|   0|\n",
      "+------------------+-------------------+-------------------+---------+--------------+---+--------+----+-----------------+-------+----+\n",
      "only showing top 3 rows"
     ]
    }
   ],
   "source": [
    "# column names\n",
    "sample.printSchema()\n",
    "\n",
    "sample.show(3)"
   ]
  },
  {
   "cell_type": "code",
   "execution_count": 139,
   "metadata": {},
   "outputs": [
    {
     "data": {
      "application/vnd.jupyter.widget-view+json": {
       "model_id": "",
       "version_major": 2,
       "version_minor": 0
      },
      "text/plain": [
       "FloatProgress(value=0.0, bar_style='info', description='Progress:', layout=Layout(height='25px', width='50%'),…"
      ]
     },
     "metadata": {},
     "output_type": "display_data"
    }
   ],
   "source": [
    "# take out just song_hotttnesss because that's the predictive variable\n",
    "sample_labels = sample.select('song_hotttnesss')"
   ]
  },
  {
   "cell_type": "code",
   "execution_count": 140,
   "metadata": {},
   "outputs": [
    {
     "data": {
      "application/vnd.jupyter.widget-view+json": {
       "model_id": "",
       "version_major": 2,
       "version_minor": 0
      },
      "text/plain": [
       "FloatProgress(value=0.0, bar_style='info', description='Progress:', layout=Layout(height='25px', width='50%'),…"
      ]
     },
     "metadata": {},
     "output_type": "display_data"
    },
    {
     "name": "stdout",
     "output_type": "stream",
     "text": [
      "+-------------------+\n",
      "|    song_hotttnesss|\n",
      "+-------------------+\n",
      "| 0.6980975442614767|\n",
      "| 0.4909042005420652|\n",
      "|0.24686509445288138|\n",
      "| 0.7271405818437788|\n",
      "| 0.7389245482640411|\n",
      "|0.38393468427870303|\n",
      "|                0.0|\n",
      "| 0.5755105376219763|\n",
      "|                0.0|\n",
      "|                0.0|\n",
      "|                0.0|\n",
      "| 0.6141845069522139|\n",
      "| 0.6130458357683207|\n",
      "|0.42758288620768037|\n",
      "|0.26586104921065007|\n",
      "| 0.3775316449767025|\n",
      "| 0.5647575777499548|\n",
      "| 0.2707759989463275|\n",
      "| 0.6450385130033194|\n",
      "|                0.0|\n",
      "+-------------------+\n",
      "only showing top 20 rows"
     ]
    }
   ],
   "source": [
    "sample_labels.show()"
   ]
  },
  {
   "cell_type": "code",
   "execution_count": 141,
   "metadata": {},
   "outputs": [
    {
     "data": {
      "application/vnd.jupyter.widget-view+json": {
       "model_id": "",
       "version_major": 2,
       "version_minor": 0
      },
      "text/plain": [
       "FloatProgress(value=0.0, bar_style='info', description='Progress:', layout=Layout(height='25px', width='50%'),…"
      ]
     },
     "metadata": {},
     "output_type": "display_data"
    },
    {
     "name": "stdout",
     "output_type": "stream",
     "text": [
      "+------------------+-----------------+---------------+--------+--------------+---+--------+----+-----------------+-----+----+\n",
      "|artist_familiarity|artist_hotttnesss|song_hotttnesss|duration|end_of_fade_in|key|loudness|mode|start_of_fade_out|tempo|year|\n",
      "+------------------+-----------------+---------------+--------+--------------+---+--------+----+-----------------+-----+----+\n",
      "|                 0|                0|              0|       0|             0|  0|       0|   0|                0|    0|   0|\n",
      "+------------------+-----------------+---------------+--------+--------------+---+--------+----+-----------------+-----+----+"
     ]
    }
   ],
   "source": [
    "# check if there are missing values in each of the columns -> there shouldn't be any because we dropped all the rows with null values at the beginning\n",
    "sample.select([count(when(isnan(c) | col(c).isNull(), c)).alias(c) for c in sample.columns]).show()"
   ]
  },
  {
   "cell_type": "code",
   "execution_count": 62,
   "metadata": {},
   "outputs": [
    {
     "data": {
      "application/vnd.jupyter.widget-view+json": {
       "model_id": "",
       "version_major": 2,
       "version_minor": 0
      },
      "text/plain": [
       "FloatProgress(value=0.0, bar_style='info', description='Progress:', layout=Layout(height='25px', width='50%'),…"
      ]
     },
     "metadata": {},
     "output_type": "display_data"
    }
   ],
   "source": [
    "# this function calculates the average of the column\n",
    "def takeAvg(dataFrame, column):\n",
    "    return dataFrame.select(mean(col(column))).collect()"
   ]
  },
  {
   "cell_type": "code",
   "execution_count": 63,
   "metadata": {},
   "outputs": [
    {
     "data": {
      "application/vnd.jupyter.widget-view+json": {
       "model_id": "",
       "version_major": 2,
       "version_minor": 0
      },
      "text/plain": [
       "FloatProgress(value=0.0, bar_style='info', description='Progress:', layout=Layout(height='25px', width='50%'),…"
      ]
     },
     "metadata": {},
     "output_type": "display_data"
    }
   ],
   "source": [
    "# fill in the na values and return a new data frame\n",
    "# if the value is taken from takeAvg we need to index [0][0] in order to get subValue\n",
    "def fillNa(dataFrame, subDict):\n",
    "    return dataFrame.fillna(subDict)"
   ]
  },
  {
   "cell_type": "code",
   "execution_count": 142,
   "metadata": {},
   "outputs": [
    {
     "data": {
      "application/vnd.jupyter.widget-view+json": {
       "model_id": "",
       "version_major": 2,
       "version_minor": 0
      },
      "text/plain": [
       "FloatProgress(value=0.0, bar_style='info', description='Progress:', layout=Layout(height='25px', width='50%'),…"
      ]
     },
     "metadata": {},
     "output_type": "display_data"
    }
   ],
   "source": [
    "# example: fill null's in song_hotttness with average\n",
    "# but not actaully used because we already dropped the rows with null song_hotttnesss\n",
    "song_hotAvg = takeAvg(sample, 'song_hotttnesss')[0][0]\n",
    "sample_data = fillNa(sample, {'song_hotttnesss':song_hotAvg})"
   ]
  },
  {
   "cell_type": "code",
   "execution_count": 143,
   "metadata": {
    "scrolled": true
   },
   "outputs": [
    {
     "data": {
      "application/vnd.jupyter.widget-view+json": {
       "model_id": "",
       "version_major": 2,
       "version_minor": 0
      },
      "text/plain": [
       "FloatProgress(value=0.0, bar_style='info', description='Progress:', layout=Layout(height='25px', width='50%'),…"
      ]
     },
     "metadata": {},
     "output_type": "display_data"
    }
   ],
   "source": [
    "# we drop song_id becuase it's a string and we don't need it in our analysis\n",
    "# and we drop song_hotttnesss becuase it is the predictive variable\n",
    "sample_data = sample.drop('song_hotttnesss')"
   ]
  },
  {
   "cell_type": "code",
   "execution_count": 144,
   "metadata": {},
   "outputs": [
    {
     "data": {
      "application/vnd.jupyter.widget-view+json": {
       "model_id": "",
       "version_major": 2,
       "version_minor": 0
      },
      "text/plain": [
       "FloatProgress(value=0.0, bar_style='info', description='Progress:', layout=Layout(height='25px', width='50%'),…"
      ]
     },
     "metadata": {},
     "output_type": "display_data"
    },
    {
     "name": "stdout",
     "output_type": "stream",
     "text": [
      "root\n",
      " |-- artist_familiarity: double (nullable = true)\n",
      " |-- artist_hotttnesss: double (nullable = true)\n",
      " |-- duration: double (nullable = true)\n",
      " |-- end_of_fade_in: double (nullable = true)\n",
      " |-- key: integer (nullable = true)\n",
      " |-- loudness: double (nullable = true)\n",
      " |-- mode: integer (nullable = true)\n",
      " |-- start_of_fade_out: double (nullable = true)\n",
      " |-- tempo: double (nullable = true)\n",
      " |-- year: integer (nullable = true)"
     ]
    }
   ],
   "source": [
    "sample_data.printSchema()"
   ]
  },
  {
   "cell_type": "code",
   "execution_count": 145,
   "metadata": {},
   "outputs": [
    {
     "data": {
      "application/vnd.jupyter.widget-view+json": {
       "model_id": "",
       "version_major": 2,
       "version_minor": 0
      },
      "text/plain": [
       "FloatProgress(value=0.0, bar_style='info', description='Progress:', layout=Layout(height='25px', width='50%'),…"
      ]
     },
     "metadata": {},
     "output_type": "display_data"
    }
   ],
   "source": [
    "# this function centers each column\n",
    "def centerData(dataFrame_rdd):\n",
    "    col_mean = dataFrame_rdd.map(np.array).sum()/dataFrame_rdd.count()\n",
    "    return dataFrame_rdd.map(lambda x: x-col_mean)"
   ]
  },
  {
   "cell_type": "code",
   "execution_count": 146,
   "metadata": {},
   "outputs": [
    {
     "data": {
      "application/vnd.jupyter.widget-view+json": {
       "model_id": "",
       "version_major": 2,
       "version_minor": 0
      },
      "text/plain": [
       "FloatProgress(value=0.0, bar_style='info', description='Progress:', layout=Layout(height='25px', width='50%'),…"
      ]
     },
     "metadata": {},
     "output_type": "display_data"
    }
   ],
   "source": [
    "# find the covariance matrix of the dataframe\n",
    "def findCov(dataFrame_rdd): \n",
    "    centered = centerData(dataFrame_rdd)\n",
    "    return (centered.map(lambda x: np.outer(x,x)).reduce(lambda x, y : x+y))/centered.count()"
   ]
  },
  {
   "cell_type": "code",
   "execution_count": 147,
   "metadata": {},
   "outputs": [
    {
     "data": {
      "application/vnd.jupyter.widget-view+json": {
       "model_id": "",
       "version_major": 2,
       "version_minor": 0
      },
      "text/plain": [
       "FloatProgress(value=0.0, bar_style='info', description='Progress:', layout=Layout(height='25px', width='50%'),…"
      ]
     },
     "metadata": {},
     "output_type": "display_data"
    }
   ],
   "source": [
    "# eigen decomposition\n",
    "def pca(dataFrame_rdd, k = 5):\n",
    "    cov = findCov(dataFrame_rdd)\n",
    "    eig_vals, eig_vecs = eigh(cov)\n",
    "    eig_vals_indices = np.argsort(eig_vals)[::-1][0:k]\n",
    "    components = np.take(eig_vecs, eig_vals_indices, axis = 1)\n",
    "    eigenvalues = eig_vals[np.argsort(eig_vals)[::-1]]\n",
    "    scores = dataFrame_rdd.map(lambda x: np.dot(x, components))\n",
    "    return (components, scores, eigenvalues)"
   ]
  },
  {
   "cell_type": "code",
   "execution_count": 148,
   "metadata": {},
   "outputs": [
    {
     "data": {
      "application/vnd.jupyter.widget-view+json": {
       "model_id": "",
       "version_major": 2,
       "version_minor": 0
      },
      "text/plain": [
       "FloatProgress(value=0.0, bar_style='info', description='Progress:', layout=Layout(height='25px', width='50%'),…"
      ]
     },
     "metadata": {},
     "output_type": "display_data"
    }
   ],
   "source": [
    "# create rdd from the dataframe\n",
    "sample_rdd = sample_data.rdd"
   ]
  },
  {
   "cell_type": "code",
   "execution_count": 149,
   "metadata": {},
   "outputs": [
    {
     "data": {
      "application/vnd.jupyter.widget-view+json": {
       "model_id": "",
       "version_major": 2,
       "version_minor": 0
      },
      "text/plain": [
       "FloatProgress(value=0.0, bar_style='info', description='Progress:', layout=Layout(height='25px', width='50%'),…"
      ]
     },
     "metadata": {},
     "output_type": "display_data"
    }
   ],
   "source": [
    "components, scores, eigenvalues = pca(sample_rdd)"
   ]
  },
  {
   "cell_type": "code",
   "execution_count": 150,
   "metadata": {},
   "outputs": [
    {
     "data": {
      "application/vnd.jupyter.widget-view+json": {
       "model_id": "",
       "version_major": 2,
       "version_minor": 0
      },
      "text/plain": [
       "FloatProgress(value=0.0, bar_style='info', description='Progress:', layout=Layout(height='25px', width='50%'),…"
      ]
     },
     "metadata": {},
     "output_type": "display_data"
    },
    {
     "name": "stdout",
     "output_type": "stream",
     "text": [
      "array([[-3.51003663e-05,  7.22573778e-06, -6.96848672e-05,\n",
      "        -5.43854968e-04, -3.67943051e-03],\n",
      "       [-2.91319661e-05, -6.74507972e-08, -1.63053628e-05,\n",
      "        -2.77146407e-04, -2.00809232e-03],\n",
      "       [ 1.79891926e-03, -7.13814217e-01,  2.30900822e-03,\n",
      "         6.84379664e-01, -1.47564662e-01],\n",
      "       [-5.56084653e-05, -1.96646186e-03,  2.21091854e-03,\n",
      "         4.24051737e-02,  8.75575682e-02],\n",
      "       [ 6.03749949e-06, -4.18662728e-04, -1.70846919e-03,\n",
      "        -1.01318058e-02, -4.92088839e-02],\n",
      "       [-3.30600154e-04,  5.06606252e-04, -2.34112381e-02,\n",
      "        -2.06640799e-01, -9.72249390e-01],\n",
      "       [ 2.51127939e-06,  1.96541649e-04,  1.00618062e-04,\n",
      "         6.76918848e-04,  2.15698516e-03],\n",
      "       [ 1.99756414e-03, -7.00302983e-01, -1.06327153e-02,\n",
      "        -6.97730384e-01,  1.49665541e-01],\n",
      "       [-6.87650043e-04,  5.78257548e-03, -9.99662566e-01,\n",
      "         1.39525345e-02,  2.11149959e-02],\n",
      "       [-9.99996093e-01, -2.68704158e-03,  6.77944516e-04,\n",
      "        -1.06287226e-04,  3.35444010e-04]])"
     ]
    }
   ],
   "source": [
    "components"
   ]
  },
  {
   "cell_type": "code",
   "execution_count": 151,
   "metadata": {},
   "outputs": [
    {
     "data": {
      "application/vnd.jupyter.widget-view+json": {
       "model_id": "",
       "version_major": 2,
       "version_minor": 0
      },
      "text/plain": [
       "FloatProgress(value=0.0, bar_style='info', description='Progress:', layout=Layout(height='25px', width='50%'),…"
      ]
     },
     "metadata": {},
     "output_type": "display_data"
    },
    {
     "name": "stdout",
     "output_type": "stream",
     "text": [
      "[array([-2008.01754045,  -400.71224298,  -131.53140106,     6.22766674,\n",
      "           9.3663414 ]), array([-2.00754349e+03, -5.44035332e+02, -1.60322158e+00, -1.76732537e+00,\n",
      "        9.11026738e+00]), array([   0.34208762, -155.22555178, -112.75512788,    6.122216  ,\n",
      "          5.72407236])]"
     ]
    }
   ],
   "source": [
    "scores.take(3)"
   ]
  },
  {
   "cell_type": "code",
   "execution_count": 152,
   "metadata": {},
   "outputs": [
    {
     "data": {
      "application/vnd.jupyter.widget-view+json": {
       "model_id": "",
       "version_major": 2,
       "version_minor": 0
      },
      "text/plain": [
       "FloatProgress(value=0.0, bar_style='info', description='Progress:', layout=Layout(height='25px', width='50%'),…"
      ]
     },
     "metadata": {},
     "output_type": "display_data"
    },
    {
     "name": "stdout",
     "output_type": "stream",
     "text": [
      "array([9.62905071e+05, 2.74872380e+04, 1.21931217e+03, 3.85236157e+01,\n",
      "       2.33545258e+01, 1.29006864e+01, 1.00071436e+01, 2.13424273e-01,\n",
      "       2.31655182e-02, 4.00318562e-03])"
     ]
    }
   ],
   "source": [
    "eigenvalues"
   ]
  },
  {
   "cell_type": "code",
   "execution_count": null,
   "metadata": {},
   "outputs": [],
   "source": []
  },
  {
   "cell_type": "markdown",
   "metadata": {},
   "source": [
    "**Linear Regression**"
   ]
  },
  {
   "cell_type": "code",
   "execution_count": 154,
   "metadata": {},
   "outputs": [
    {
     "data": {
      "application/vnd.jupyter.widget-view+json": {
       "model_id": "",
       "version_major": 2,
       "version_minor": 0
      },
      "text/plain": [
       "FloatProgress(value=0.0, bar_style='info', description='Progress:', layout=Layout(height='25px', width='50%'),…"
      ]
     },
     "metadata": {},
     "output_type": "display_data"
    },
    {
     "name": "stdout",
     "output_type": "stream",
     "text": [
      "286453"
     ]
    }
   ],
   "source": [
    "len(sample_labels.rdd.collect())"
   ]
  },
  {
   "cell_type": "code",
   "execution_count": 155,
   "metadata": {},
   "outputs": [
    {
     "data": {
      "application/vnd.jupyter.widget-view+json": {
       "model_id": "",
       "version_major": 2,
       "version_minor": 0
      },
      "text/plain": [
       "FloatProgress(value=0.0, bar_style='info', description='Progress:', layout=Layout(height='25px', width='50%'),…"
      ]
     },
     "metadata": {},
     "output_type": "display_data"
    }
   ],
   "source": [
    "\n",
    "scores_np = np.array(scores.collect())\n",
    "inv_outer = np.linalg.inv(scores.map(lambda pt: np.outer(pt, pt)).sum())\n",
    "scores_w = np.matmul(np.matmul(inv_outer, np.transpose(scores_np)), np.array(sample_labels.rdd.collect()))"
   ]
  },
  {
   "cell_type": "code",
   "execution_count": 156,
   "metadata": {},
   "outputs": [
    {
     "data": {
      "application/vnd.jupyter.widget-view+json": {
       "model_id": "",
       "version_major": 2,
       "version_minor": 0
      },
      "text/plain": [
       "FloatProgress(value=0.0, bar_style='info', description='Progress:', layout=Layout(height='25px', width='50%'),…"
      ]
     },
     "metadata": {},
     "output_type": "display_data"
    },
    {
     "name": "stdout",
     "output_type": "stream",
     "text": [
      "array([[-0.00010615],\n",
      "       [-0.00013282],\n",
      "       [-0.00136346],\n",
      "       [ 0.00132717],\n",
      "       [-0.00066829]])"
     ]
    }
   ],
   "source": [
    "scores_w"
   ]
  },
  {
   "cell_type": "code",
   "execution_count": 157,
   "metadata": {},
   "outputs": [
    {
     "data": {
      "application/vnd.jupyter.widget-view+json": {
       "model_id": "",
       "version_major": 2,
       "version_minor": 0
      },
      "text/plain": [
       "FloatProgress(value=0.0, bar_style='info', description='Progress:', layout=Layout(height='25px', width='50%'),…"
      ]
     },
     "metadata": {},
     "output_type": "display_data"
    },
    {
     "name": "stdout",
     "output_type": "stream",
     "text": [
      "array([[ 1.83491121e-06],\n",
      "       [ 9.99497370e-07],\n",
      "       [ 1.09837710e-03],\n",
      "       [-4.98216589e-06],\n",
      "       [ 2.18234844e-05],\n",
      "       [ 4.07383401e-04],\n",
      "       [-7.06661349e-07],\n",
      "       [-9.18726694e-04],\n",
      "       [ 1.36671194e-03],\n",
      "       [ 1.05218785e-04]])"
     ]
    }
   ],
   "source": [
    "np.matmul(components, scores_w)"
   ]
  }
 ],
 "metadata": {
  "kernelspec": {
   "display_name": "PySpark",
   "language": "",
   "name": "pysparkkernel"
  },
  "language_info": {
   "codemirror_mode": {
    "name": "python",
    "version": 3
   },
   "mimetype": "text/x-python",
   "name": "pyspark",
   "pygments_lexer": "python3"
  }
 },
 "nbformat": 4,
 "nbformat_minor": 4
}
